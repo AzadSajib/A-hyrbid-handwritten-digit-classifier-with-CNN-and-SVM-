{
 "cells": [
  {
   "cell_type": "code",
   "execution_count": 1,
   "metadata": {},
   "outputs": [],
   "source": [
    "# Library import\n",
    "\n",
    "import numpy as np\n",
    "import math \n",
    "\n",
    "import tensorflow as tf\n",
    "\n",
    "from keras import layers\n",
    "from keras import models\n",
    "from keras.layers import Dense, Dropout, Input\n",
    "from keras.utils import to_categorical\n",
    "from keras.metrics import MeanAbsoluteError\n",
    "from keras.losses import CategoricalHinge, CategoricalCrossentropy\n",
    "import keras.optimizers as Optimizers\n",
    "\n",
    "import matplotlib.pyplot as plt"
   ]
  },
  {
   "cell_type": "code",
   "execution_count": 10,
   "metadata": {},
   "outputs": [],
   "source": [
    "# Dataset Import\n",
    "\n",
    "from keras.datasets import mnist\n"
   ]
  },
  {
   "cell_type": "code",
   "execution_count": 11,
   "metadata": {},
   "outputs": [],
   "source": [
    "# Data Processing\n",
    "\n",
    "(train_image, train_labels), (test_image, test_labels)= mnist.load_data();\n",
    "\n",
    "train_image= train_image.reshape(60000, 28, 28, 1);\n",
    "train_image= train_image.astype('float32')/255;\n",
    "\n",
    "test_image= test_image.reshape(10000, 28, 28, 1);\n",
    "test_image= test_image.astype('float32')/255;\n",
    "\n",
    "train_labels= to_categorical(train_labels);\n",
    "test_labels= to_categorical(test_labels);"
   ]
  },
  {
   "cell_type": "code",
   "execution_count": 12,
   "metadata": {},
   "outputs": [
    {
     "name": "stdout",
     "output_type": "stream",
     "text": [
      "(60000, 10)\n",
      "(10000, 10)\n"
     ]
    }
   ],
   "source": [
    "# Check\n",
    "\n",
    "print(np.shape(train_labels))\n",
    "print(np.shape(test_labels))"
   ]
  },
  {
   "cell_type": "code",
   "execution_count": 13,
   "metadata": {},
   "outputs": [],
   "source": [
    "# Dataset Sample Plot\n",
    "\n",
    "#sample= 900\n",
    "#image= train_image[sample]\n",
    "\n",
    "#plt.figure(figsize= (5,5))\n",
    "#plt.imshow(image, cmap= 'gray')\n",
    "#print(train_labels[sample])"
   ]
  },
  {
   "cell_type": "code",
   "execution_count": 14,
   "metadata": {},
   "outputs": [
    {
     "name": "stdout",
     "output_type": "stream",
     "text": [
      "Model: \"sequential_1\"\n",
      "_________________________________________________________________\n",
      " Layer (type)                Output Shape              Param #   \n",
      "=================================================================\n",
      " conv2d_3 (Conv2D)           (None, 24, 24, 64)        1664      \n",
      "                                                                 \n",
      " max_pooling2d_2 (MaxPooling  (None, 12, 12, 64)       0         \n",
      " 2D)                                                             \n",
      "                                                                 \n",
      " conv2d_4 (Conv2D)           (None, 10, 10, 64)        36928     \n",
      "                                                                 \n",
      " max_pooling2d_3 (MaxPooling  (None, 5, 5, 64)         0         \n",
      " 2D)                                                             \n",
      "                                                                 \n",
      " conv2d_5 (Conv2D)           (None, 3, 3, 32)          18464     \n",
      "                                                                 \n",
      "=================================================================\n",
      "Total params: 57,056\n",
      "Trainable params: 57,056\n",
      "Non-trainable params: 0\n",
      "_________________________________________________________________\n"
     ]
    }
   ],
   "source": [
    "# Model Define - Feature Extractor\n",
    "\n",
    "model= models.Sequential();\n",
    "model.add(layers.Conv2D(64, (5,5), activation= 'relu', input_shape=(28, 28, 1)));\n",
    "model.add(layers.MaxPooling2D(2,2));\n",
    "model.add(layers.Conv2D(64, (3,3), activation= 'relu'));\n",
    "model.add(layers.MaxPooling2D(2,2));\n",
    "model.add(layers.Conv2D(32, (3,3), activation= 'relu'));\n",
    "\n",
    "model.summary()"
   ]
  },
  {
   "cell_type": "code",
   "execution_count": 15,
   "metadata": {},
   "outputs": [
    {
     "name": "stdout",
     "output_type": "stream",
     "text": [
      "Model: \"sequential_1\"\n",
      "_________________________________________________________________\n",
      " Layer (type)                Output Shape              Param #   \n",
      "=================================================================\n",
      " conv2d_3 (Conv2D)           (None, 24, 24, 64)        1664      \n",
      "                                                                 \n",
      " max_pooling2d_2 (MaxPooling  (None, 12, 12, 64)       0         \n",
      " 2D)                                                             \n",
      "                                                                 \n",
      " conv2d_4 (Conv2D)           (None, 10, 10, 64)        36928     \n",
      "                                                                 \n",
      " max_pooling2d_3 (MaxPooling  (None, 5, 5, 64)         0         \n",
      " 2D)                                                             \n",
      "                                                                 \n",
      " conv2d_5 (Conv2D)           (None, 3, 3, 32)          18464     \n",
      "                                                                 \n",
      " flatten_1 (Flatten)         (None, 288)               0         \n",
      "                                                                 \n",
      " dense_1 (Dense)             (None, 64)                18496     \n",
      "                                                                 \n",
      " svm (Dense)                 (None, 10)                650       \n",
      "                                                                 \n",
      "=================================================================\n",
      "Total params: 76,202\n",
      "Trainable params: 76,202\n",
      "Non-trainable params: 0\n",
      "_________________________________________________________________\n"
     ]
    }
   ],
   "source": [
    "# Classifier\n",
    "\n",
    "model.add(layers.Flatten());\n",
    "model.add(layers.Dense(64, activation= 'sigmoid'));\n",
    "model.add(layers.Dense(10, activation= 'linear', name='svm'));\n",
    "\n",
    "\n",
    "model.summary()"
   ]
  },
  {
   "cell_type": "code",
   "execution_count": 16,
   "metadata": {
    "scrolled": true
   },
   "outputs": [
    {
     "name": "stdout",
     "output_type": "stream",
     "text": [
      "Epoch 1/5\n",
      "750/750 [==============================] - 22s 29ms/step - loss: 0.1904 - accuracy: 0.9149 - val_loss: 0.0560 - val_accuracy: 0.9791\n",
      "Epoch 2/5\n",
      "750/750 [==============================] - 22s 29ms/step - loss: 0.0468 - accuracy: 0.9828 - val_loss: 0.0410 - val_accuracy: 0.9853\n",
      "Epoch 3/5\n",
      "750/750 [==============================] - 21s 28ms/step - loss: 0.0351 - accuracy: 0.9869 - val_loss: 0.0360 - val_accuracy: 0.9862\n",
      "Epoch 4/5\n",
      "750/750 [==============================] - 21s 28ms/step - loss: 0.0274 - accuracy: 0.9893 - val_loss: 0.0320 - val_accuracy: 0.9877\n",
      "Epoch 5/5\n",
      "750/750 [==============================] - 22s 29ms/step - loss: 0.0230 - accuracy: 0.9917 - val_loss: 0.0314 - val_accuracy: 0.9885\n"
     ]
    }
   ],
   "source": [
    "# Model Train\n",
    "\n",
    "model.compile(optimizer= 'adam',\n",
    "             loss= CategoricalHinge(name='Categorical_Hinge'),\n",
    "             metrics= ['accuracy']);\n",
    "\n",
    "a=model.fit(train_image, train_labels, \n",
    "          epochs= 5,\n",
    "          batch_size= 64,\n",
    "          verbose= 1,\n",
    "          validation_split= 0.2);"
   ]
  },
  {
   "cell_type": "code",
   "execution_count": 9,
   "metadata": {},
   "outputs": [],
   "source": [
    "# Loss values\n",
    "a_dict= a.history;\n",
    "# print(a_dict.keys())\n",
    "\n",
    "training_loss= a_dict['loss']\n",
    "validation_loss= a_dict['val_loss']\n",
    "train_accuracy= a_dict['accuracy']\n",
    "validation_accuracy= a_dict['val_accuracy']\n",
    "\n",
    "# Save data to .csv files\n",
    "np.savetxt('train_loss.csv', training_loss, delimiter=',')\n",
    "np.savetxt('validation_loss.csv', validation_loss, delimiter=',')\n",
    "\n",
    "np.savetxt('train_accuracy.csv', train_accuracy, delimiter=',')\n",
    "np.savetxt('validation_accuracy.csv', validation_accuracy, delimiter=',')\n"
   ]
  },
  {
   "cell_type": "code",
   "execution_count": 17,
   "metadata": {},
   "outputs": [
    {
     "name": "stdout",
     "output_type": "stream",
     "text": [
      "313/313 [==============================] - 3s 7ms/step\n"
     ]
    }
   ],
   "source": [
    "# Prediction\n",
    "\n",
    "prediction = model.predict(test_image)"
   ]
  },
  {
   "cell_type": "code",
   "execution_count": 25,
   "metadata": {},
   "outputs": [
    {
     "name": "stdout",
     "output_type": "stream",
     "text": [
      "313/313 [==============================] - 2s 6ms/step - loss: 0.0269 - accuracy: 0.9893\n",
      "Test loss: 0.026883628219366074\n",
      "Test accuracy: 98.9300012588501 %\n"
     ]
    }
   ],
   "source": [
    "# Model Evauation\n",
    "\n",
    "loss, accuracy= model.evaluate(test_image, test_labels);\n",
    "\n",
    "print('Test loss:', loss)\n",
    "print('Test accuracy:', accuracy* 100,'%')"
   ]
  }
 ],
 "metadata": {
  "kernelspec": {
   "display_name": "Python 3 (ipykernel)",
   "language": "python",
   "name": "python3"
  },
  "language_info": {
   "codemirror_mode": {
    "name": "ipython",
    "version": 3
   },
   "file_extension": ".py",
   "mimetype": "text/x-python",
   "name": "python",
   "nbconvert_exporter": "python",
   "pygments_lexer": "ipython3",
   "version": "3.7.13"
  }
 },
 "nbformat": 4,
 "nbformat_minor": 4
}
